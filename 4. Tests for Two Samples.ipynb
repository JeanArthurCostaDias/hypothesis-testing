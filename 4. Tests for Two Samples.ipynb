{
 "cells": [
  {
   "cell_type": "markdown",
   "metadata": {},
   "source": [
    "# Hypothesis Tests for Two Samples\n",
    "\n",
    "Hypothesis tests for two samples adapt to different scenarios based on the available information about population variances:\n",
    "\n",
    "- **Known Variances - Z Test:**\n",
    "  - When population variances are known, the z-test offers a direct and efficient means of comparing means between two independent samples.\n",
    "\n",
    "- **Unknown but Similar Variances:**\n",
    "  - In cases of unknown but presumed similar variances, a specialized t-test formulation is applied, providing reliable results even when estimating population variances is challenging.\n",
    "\n",
    "- **Unknown and Different Variances:**\n",
    "  - Addressing situations with unknown and potentially different variances, a modified t-test accommodates variations in population characteristics, ensuring accurate hypothesis testing.\n"
   ]
  },
  {
   "cell_type": "markdown",
   "metadata": {},
   "source": [
    "## Two Population Means with Known Variance\n",
    "\n",
    "In specific contexts, albeit uncommon, knowledge of population standard deviations can be available, facilitating hypothesis testing for independent means with known population standard deviations. The conditions for this scenario include assumptions about normality in both populations and a normal distribution for the sampling distribution of the difference between means ($X_1 - X_2$).\n",
    "\n",
    "### Assumptions:\n",
    "\n",
    "1. **Normality of Populations:**\n",
    "   - Both populations from which the samples are drawn are assumed to be normally distributed.\n",
    "\n",
    "2. **Known Population Standard Deviations:**\n",
    "   - The population standard deviations ($\\sigma_1$ and $\\sigma_2$) are known.\n",
    "\n",
    "### Normal Distribution Characteristics:\n",
    "\n",
    "The normal distribution for the difference between means ($X_1 - X_2$) is represented as:\n",
    "\n",
    "$$ X_1 - X_2 \\sim \\mathcal{N}(\\mu_1 - \\mu_2, \\sqrt{\\frac{\\sigma_1^2}{n_1} + \\frac{\\sigma_2^2}{n_2}}) $$\n",
    "\n",
    "Here, $\\mu_1$ and $\\mu_2$ denote the population means, and $n_1$ and $n_2$ are the respective sample sizes.\n",
    "\n",
    "### Standard Deviation Calculation:\n",
    "\n",
    "The standard deviation for this distribution is calculated using the formula:\n",
    "\n",
    "$$ \\sqrt{\\frac{\\sigma_1^2}{n_1} + \\frac{\\sigma_2^2}{n_2}} $$\n",
    "\n",
    "Where $\\sigma_1$ and $\\sigma_2$ are the known population standard deviations, and $n_1$ and $n_2$ are the sample sizes.\n",
    "\n",
    "### Test Statistic (Z-Score):\n",
    "\n",
    "The test statistic, often referred to as the z-score, is computed as:\n",
    "\n",
    "$$ z = \\frac{(\\bar{x}_1 - \\bar{x}_2) - (\\mu_1 - \\mu_2)}{\\sqrt{\\frac{\\sigma_1^2}{n_1} + \\frac{\\sigma_2^2}{n_2}}} $$\n",
    "\n",
    "Here, $\\bar{x}_1$ and $\\bar{x}_2$ represent the sample means, $\\mu_1$ and $\\mu_2$ are the population means, $\\sigma_1$ and $\\sigma_2$ are the population standard deviations, and $n_1$ and $n_2$ are the sample sizes."
   ]
  },
  {
   "cell_type": "markdown",
   "metadata": {},
   "source": [
    "State the following Hypothesis:  \n",
    "$$H_0: \\mu_1 = \\mu_2$$\n",
    "$$H_1: \\mu \\neq \\mu_2$$  \n",
    "\n",
    "And set significance level $\\alpha$ = 0.05"
   ]
  },
  {
   "cell_type": "markdown",
   "metadata": {},
   "source": []
  },
  {
   "cell_type": "code",
   "execution_count": 3,
   "metadata": {},
   "outputs": [],
   "source": [
    "import numpy as np\n",
    "from scipy import stats"
   ]
  },
  {
   "cell_type": "code",
   "execution_count": 4,
   "metadata": {},
   "outputs": [],
   "source": [
    "mu_1 = 10\n",
    "mu_2 = 10.5\n",
    "\n",
    "sigma_1 = 2\n",
    "sigma_2 = 3\n",
    "\n",
    "n_1 = 100\n",
    "n_2 = 120\n",
    "\n",
    "x_1 = stats.norm.rvs(size=n_1, loc=mu_1, scale=sigma_1)\n",
    "x_2 = stats.norm.rvs(size=n_2, loc=mu_2, scale=sigma_2)"
   ]
  },
  {
   "cell_type": "code",
   "execution_count": 5,
   "metadata": {},
   "outputs": [
    {
     "name": "stdout",
     "output_type": "stream",
     "text": [
      "z-statistic: -2.8773 \n",
      "p-value:  0.0040 \n",
      "z-critical:  1.9600\n",
      "Reject H0: True\n"
     ]
    }
   ],
   "source": [
    "x1_hat = np.mean(x_1)\n",
    "x2_hat = np.mean(x_2)\n",
    "alpha = 0.05\n",
    "\n",
    "z_statistic = (x1_hat - x2_hat - (mu_1 - mu_1))/np.sqrt(sigma_1**2/n_1 + sigma_2**2/n_2)\n",
    "p_value = 2*stats.norm.cdf(-abs(z_statistic))\n",
    "z_critical = stats.norm.ppf(1-alpha/2)\n",
    "\n",
    "print(f'z-statistic: {z_statistic: 3.4f} \\np-value: {p_value: 3.4f} \\nz-critical: {z_critical: 3.4f}')\n",
    "print('Reject H0:', p_value < alpha)"
   ]
  },
  {
   "cell_type": "markdown",
   "metadata": {},
   "source": [
    "## Two Population Means with Unknown Variance\n",
    "### Equal or Unequal Sample Sizes, Similar Variances ($\\frac{1}{2}$ $<$ $\\frac{s_{X_1}}{s_{X_2}}$ $<$ $2$)\n",
    "\n",
    "This test is employed under the assumption that the two distributions share the same variance. The formulae provided are a special case when both samples are of equal size, i.e., n = n1 = n2.\n",
    "\n",
    "The t statistic for testing the difference in means is calculated as follows:\n",
    "\n",
    "$$ t = \\frac{\\bar{X}_1 - \\bar{X}_2}{s_p \\cdot \\sqrt{\\frac{1}{n_1} + \\frac{1}{n_2}}} $$\n",
    "\n",
    "Where:\n",
    "- $ s_p $ is the pooled standard deviation of the two samples, defined as $\\sqrt{\\frac{(n_1-1)s_{X_{1}}^{2}+(n_{2}-1)s_{X_{2}}^{2}}{n_{1}+n_{2}-2}}$.\n",
    "- $ n_i - 1 $ represents the degrees of freedom for each group, and $ n_1 + n_2 - 2 $ is the total degrees of freedom used in significance testing.\n",
    "\n",
    "#### Assumptions for T-Test on Two Population Means with Unknown Variance\n",
    "\n",
    "1. **Normal Distribution of Populations:**\n",
    "   - The variable X, representing the difference in means, follows a normal distribution with mean μ and variance σ²/n.\n",
    "\n",
    "2. **Chi-Square Distribution for Variance Estimate:**\n",
    "   - The ratio of sample variances, $\\frac{s^2(n - 1)}{\\sigma^2}$, follows a $\\chi^2$ distribution with n - 1 degrees of freedom. This assumption holds when the observations used for estimating $s^2$ come from a normal distribution, and they are independent and identically distributed (i.i.d.) for each group.\n",
    "\n",
    "3. **Independence of Z and s:**\n",
    "   - Z (test statistic) and s (standard deviation) are assumed to be independent.\n",
    "\n",
    "These assumptions are crucial for the validity of the t-test, ensuring that the statistical inferences drawn from the test results accurately reflect the characteristics of the populations under consideration.\n"
   ]
  },
  {
   "cell_type": "markdown",
   "metadata": {},
   "source": []
  },
  {
   "cell_type": "code",
   "execution_count": 6,
   "metadata": {},
   "outputs": [
    {
     "name": "stdout",
     "output_type": "stream",
     "text": [
      "t-statistic: -2.9892 \n",
      "p-value:  0.0031 \n",
      "t-critical:  1.9709\n",
      "Reject H0: True\n"
     ]
    }
   ],
   "source": [
    "x1_hat = np.mean(x_1)\n",
    "x2_hat = np.mean(x_2)\n",
    "alpha = 0.05\n",
    "\n",
    "df = n_1 + n_2 - 2\n",
    "s_x1 = np.std(x_1, ddof=1)\n",
    "s_x2 = np.std(x_2, ddof=1)\n",
    "\n",
    "s_p = np.sqrt(((n_1 - 1)*s_x1**2 + (n_2 - 1)*s_x2**2)/(n_1 + n_2 - 2))\n",
    "\n",
    "t_statistic = (x1_hat - x2_hat - (mu_1 - mu_1))/ (s_p*np.sqrt(1/n_1 + 1/n_2))\n",
    "p_value = 2*stats.t.cdf(-abs(t_statistic), df=df)\n",
    "t_critical = stats.t.ppf(1-alpha/2, df=df)\n",
    "\n",
    "print(f't-statistic: {t_statistic: 3.4f} \\np-value: {p_value: 3.4f} \\nt-critical: {t_critical: 3.4f}')\n",
    "print('Reject H0:', p_value < alpha)"
   ]
  },
  {
   "cell_type": "code",
   "execution_count": 7,
   "metadata": {},
   "outputs": [
    {
     "data": {
      "text/plain": [
       "Ttest_indResult(statistic=-2.9892172292133776, pvalue=0.0031179034893357377)"
      ]
     },
     "execution_count": 7,
     "metadata": {},
     "output_type": "execute_result"
    }
   ],
   "source": [
    "stats.ttest_ind(x_1, x_2, equal_var=True, alternative='two-sided')"
   ]
  },
  {
   "cell_type": "markdown",
   "metadata": {},
   "source": [
    "\n",
    "### Equal or Unequal Sample Sizes, Unequal Variances ($s_{X_1}$ $>$ $2s_{X_2}$ or $s_{X_2}$ $>$ $2s_{X_1}$)\n",
    "\n",
    "Welch's Test is a statistical test used to compare the means of two independent samples when the assumption of equal variances is violated. This test is an extension of the independent samples t-test and is particularly useful when the variances of the two groups being compared are unequal.\n",
    "\n",
    "#### Assumptions:\n",
    "1. **Independence:** The observations in each group are independent of each other.\n",
    "2. **Normality:** The data in each group should be approximately normally distributed.\n",
    "3. **Unequal Variances:** The variances of the two groups are not assumed to be equal.\n",
    "\n",
    "#### Mathematical Formulation:  \n",
    "Two Populations:  \n",
    "$$H_0: \\mu_1 = \\mu_2$$\n",
    "$$H_1: \\mu_1 \\neq \\mu_2$$  \n",
    "\n",
    "- Suppose that $ X_{1,1}, X_{1,2}, \\ldots, X_{1,n_1} $ is a random sample of size $ n_1 $ from the normal distribution with mean $ \\mu_1 $ and variance $ \\sigma_1^2 $.\n",
    "- Suppose that $ X_{2,1}, X_{2,2}, \\ldots, X_{2,n_2} $ is a random sample of size $ n_2 $ from the normal distribution with mean $ \\mu_2 $ and variance $ \\sigma_2^2 $.\n",
    "- Suppose that $ \\sigma_1^2 $ and $ \\sigma_2^2 $ are unknown and samples are independent.\n",
    "- Don't assume that $ \\sigma_1 $ and $ \\sigma_2 $ are equal!\n",
    "\n",
    "The test statistic for Welch's Test is calculated as follows:\n",
    "\n",
    "$$ t = \\frac{\\bar{X}_1 - \\bar{X}_2 - (\\mu_1 - \\mu_2)}{\\sqrt{\\frac{s_1^2}{n_1} + \\frac{s_2^2}{n_2}}} $$\n",
    "\n",
    "where:\n",
    "- $\\bar{X}_1$ and $\\bar{X}_2$ are the sample means of the two groups.\n",
    "- $s_1^2$ and $s_2^2$ are the sample variances of the two groups.\n",
    "- $n_1$ and $n_2$ are the sample sizes of the two groups.\n",
    "\n",
    "The degrees of freedom for the test are calculated using the Welch-Satterthwaite formula.\n",
    "\n",
    "$$ \\text{df} = \\frac{\\left(\\frac{s_1^2}{n_1} + \\frac{s_2^2}{n_2}\\right)^2}{\\frac{\\left(\\frac{s_1^2}{n_1}\\right)^2}{n_1 - 1} + \\frac{\\left(\\frac{s_2^2}{n_2}\\right)^2}{n_2 - 1}} $$\n"
   ]
  },
  {
   "cell_type": "code",
   "execution_count": 8,
   "metadata": {},
   "outputs": [
    {
     "name": "stdout",
     "output_type": "stream",
     "text": [
      "t-statistic: -3.0799 \n",
      "p-value:  0.0023 \n",
      "t-critical:  1.9712\n",
      "Reject H0: True\n"
     ]
    }
   ],
   "source": [
    "x1_hat = np.mean(x_1)\n",
    "x2_hat = np.mean(x_2)\n",
    "alpha = 0.05\n",
    "\n",
    "s_x1_sq = np.var(x_1, ddof=1)\n",
    "s_x2_sq = np.var(x_2, ddof=1)\n",
    "df = (s_x1_sq/n_1 + s_x2_sq/n_2)**2/((s_x1_sq/n_1)**2/(n_1 - 1) + (s_x2_sq/n_2)**2/(n_2 - 1))\n",
    "\n",
    "\n",
    "s_d = np.sqrt(s_x1_sq/n_1 + s_x2_sq/n_2)\n",
    "\n",
    "t_statistic = (x1_hat - x2_hat - (mu_1 - mu_1))/s_d\n",
    "p_value = 2*stats.t.cdf(-abs(t_statistic), df=df)\n",
    "t_critical = stats.t.ppf(1-alpha/2, df=df)\n",
    "\n",
    "print(f't-statistic: {t_statistic: 3.4f} \\np-value: {p_value: 3.4f} \\nt-critical: {t_critical: 3.4f}')\n",
    "print('Reject H0:', p_value < alpha)"
   ]
  },
  {
   "cell_type": "code",
   "execution_count": 9,
   "metadata": {},
   "outputs": [
    {
     "data": {
      "text/plain": [
       "Ttest_indResult(statistic=-3.079948598607315, pvalue=0.002343054854539707)"
      ]
     },
     "execution_count": 9,
     "metadata": {},
     "output_type": "execute_result"
    }
   ],
   "source": [
    "stats.ttest_ind(x_1, x_2, equal_var=False, alternative='two-sided')"
   ]
  },
  {
   "cell_type": "markdown",
   "metadata": {},
   "source": [
    "## Hypothesis Testing for Two Population Proportions\n",
    "\n",
    "When comparing the proportions of two independent populations, hypothesis testing for two proportions is a valuable statistical method. This test is applicable in scenarios where the data involve binary outcomes (e.g., success/failure, yes/no) and you want to assess if there is a significant difference in the proportions between the two populations.\n",
    "\n",
    "**Assumptions:**  \n",
    "- A simple random sample is taken from each population.\n",
    "- The conditions for a binomial distribution are met: there are a certain number $ n $ of independent trials, each trial has outcomes of success or failure, and each trial has the same probability of success $ p $.\n",
    "- The binomial distribution needs to resemble a normal distribution, ensuring $ np > 5 $ and $ nq > 5 $, where $ q = 1 - p $.\n",
    "\n",
    "**Mathematical Formulation:**  \n",
    "The test statistic follows a standard normal distribution, and the formula for the z-test for two proportions is given by:\n",
    "\n",
    "$$ z = \\frac{(\\hat{p}_1 - \\hat{p}_2) - (p_1 - p_2)}{\\sqrt{\\hat{p}(1-\\hat{p})\\left(\\frac{1}{n_1} + \\frac{1}{n_2}\\right)}} $$\n",
    "\n",
    "where:\n",
    "- $ \\hat{p}_1 $ and $ \\hat{p}_2 $ are the sample proportions from the two populations,\n",
    "- $ \\hat{p} $ is the pooled sample proportion,\n",
    "- $ n_1 $ and $ n_2 $ are the sample sizes from the respective populations.  \n",
    "\n",
    "$$ \\hat{p} = \\frac{n_1\\cdot \\hat{p}_1 + n_2 \\cdot \\hat{p}_2}{n_1 + n_2}$$\n",
    "\n",
    "This test helps determine if there is a statistically significant difference in proportions between two populations, providing valuable insights for decision-making in various fields.\n"
   ]
  },
  {
   "cell_type": "markdown",
   "metadata": {},
   "source": [
    "### Example:\n",
    "\n",
    "State the following Hypothesis:  \n",
    "$$H_0: p_1 = p_2$$\n",
    "$$H_1: p \\neq p_2$$  \n",
    "\n",
    "And set significance level $\\alpha$ = 0.05"
   ]
  },
  {
   "cell_type": "code",
   "execution_count": 44,
   "metadata": {},
   "outputs": [],
   "source": [
    "p_1 = 0.4\n",
    "n_1 = 500\n",
    "\n",
    "p_2 = 0.5\n",
    "n_2 = 320\n",
    "\n",
    "x_1 = stats.bernoulli.rvs(size=n_1, p=p_1)\n",
    "x_2 = stats.bernoulli.rvs(size=n_2, p=p_2)"
   ]
  },
  {
   "cell_type": "code",
   "execution_count": 45,
   "metadata": {},
   "outputs": [
    {
     "name": "stdout",
     "output_type": "stream",
     "text": [
      "z-statistic: -2.9864 \n",
      "p-value:  0.0028 \n",
      "z-critical:  1.9600\n",
      "Reject H0: True\n"
     ]
    }
   ],
   "source": [
    "alpha = 0.05\n",
    "p1_hat = x_1.sum()/x_1.size\n",
    "p2_hat = x_2.sum()/x_2.size\n",
    "\n",
    "p_p = (x_1.sum() + x_2.sum())/(x_1.size + x_2.size)\n",
    "\n",
    "z_statistic = (p1_hat - p2_hat)/np.sqrt(p_p*(1 - p_p)*(1/n_1 + 1/n_2))\n",
    "p_value = 2*stats.norm.cdf(-abs(z_statistic))\n",
    "z_critical = stats.norm.ppf(1 - alpha/2)\n",
    "print(f'z-statistic: {z_statistic: 3.4f} \\np-value: {p_value: 3.4f} \\nz-critical: {z_critical: 3.4f}')\n",
    "print('Reject H0:', p_value < alpha)"
   ]
  },
  {
   "cell_type": "code",
   "execution_count": 46,
   "metadata": {},
   "outputs": [],
   "source": [
    "def z_test_two_proportions(p1_hat, p2_hat, n1, n2, alpha=0.05):\n",
    "    # Pooled sample proportion\n",
    "    p_hat = (n1 * p1_hat + n2 * p2_hat) / (n1 + n2)\n",
    "\n",
    "    # Standard error of the difference in proportions\n",
    "    se = np.sqrt(p_hat * (1 - p_hat) * (1 / n1 + 1 / n2))\n",
    "\n",
    "    # Test statistic\n",
    "    z_statistic = (p1_hat - p2_hat) / se\n",
    "\n",
    "    # Two-tailed p-value\n",
    "    p_value = 2 * (1 - stats.norm.cdf(abs(z_statistic)))\n",
    "\n",
    "    # Critical z-value\n",
    "    z_critical = stats.norm.ppf(1 - alpha / 2)\n",
    "\n",
    "    # Decision rule\n",
    "    reject_H0 = abs(z_statistic) > z_critical\n",
    "\n",
    "    return {\n",
    "        'z_statistic': z_statistic,\n",
    "        'p_value': p_value,\n",
    "        'z_critical': z_critical,\n",
    "        'reject_H0': reject_H0\n",
    "    }"
   ]
  },
  {
   "cell_type": "code",
   "execution_count": 47,
   "metadata": {},
   "outputs": [
    {
     "name": "stdout",
     "output_type": "stream",
     "text": [
      "0.394 0.5 500 320\n"
     ]
    },
    {
     "data": {
      "text/plain": [
       "{'z_statistic': -2.986401391112891,\n",
       " 'p_value': 0.0028228185982119847,\n",
       " 'z_critical': 1.959963984540054,\n",
       " 'reject_H0': True}"
      ]
     },
     "execution_count": 47,
     "metadata": {},
     "output_type": "execute_result"
    }
   ],
   "source": [
    "print(p1_hat, p2_hat, n_1, n_2)\n",
    "\n",
    "z_test_two_proportions(p1_hat, p2_hat, n_1, n_2, alpha=0.05)"
   ]
  },
  {
   "cell_type": "code",
   "execution_count": null,
   "metadata": {},
   "outputs": [],
   "source": []
  }
 ],
 "metadata": {
  "kernelspec": {
   "display_name": "ml_dl",
   "language": "python",
   "name": "python3"
  },
  "language_info": {
   "codemirror_mode": {
    "name": "ipython",
    "version": 3
   },
   "file_extension": ".py",
   "mimetype": "text/x-python",
   "name": "python",
   "nbconvert_exporter": "python",
   "pygments_lexer": "ipython3",
   "version": "3.8.16"
  }
 },
 "nbformat": 4,
 "nbformat_minor": 2
}
