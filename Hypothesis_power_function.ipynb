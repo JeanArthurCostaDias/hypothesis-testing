{
 "cells": [
  {
   "cell_type": "markdown",
   "metadata": {},
   "source": [
    "# Hypothesis Test Power function.\n",
    "Definitions  \n",
    "\n",
    "|                      | H0 True            | H0 False          |\n",
    "|----------------------|--------------------|-------------------|\n",
    "| **Reject H0**        | Type I error (α)   | Power (1‐β)       |\n",
    "| **Fail to reject H0**| 1‐α                | Type II error (β) |\n",
    "\n",
    "\n",
    "### General Formulation:\n",
    "\n",
    "Consider a statistical test with the following hypotheses:\n",
    "\n",
    "- **Null Hypothesis ($H_0$):**  \n",
    "  $ \\theta = \\theta_0 $\n",
    "\n",
    "- **Alternative Hypothesis ($H_1$):**  \n",
    "  $ \\theta = \\theta_1 $\n",
    "\n",
    "Here, $\\theta$ represents the parameter of interest, and $\\theta_0$ and $\\theta_1$ are specific values under the null and alternative hypotheses, respectively.\n",
    "\n",
    "### Power Function:\n",
    "\n",
    "The power function ($ \\text{Power}(\\theta_1) $) is defined as the probability of rejecting the null hypothesis when the true parameter value is $\\theta_1$. Mathematically, it is given by:\n",
    "\n",
    "$$ \\text{Power}(\\theta_1) = P(\\text{Reject } H_0 \\mid \\theta = \\theta_1) $$\n",
    "\n",
    "This can be expressed in terms of probability distributions or density functions, depending on the specific hypothesis test. For example, in the context of a Z-test for the mean, the power function involves the distribution of the sample mean under the null and alternative hypotheses.\n",
    "\n"
   ]
  },
  {
   "cell_type": "markdown",
   "metadata": {},
   "source": []
  }
 ],
 "metadata": {
  "language_info": {
   "name": "python"
  }
 },
 "nbformat": 4,
 "nbformat_minor": 2
}
