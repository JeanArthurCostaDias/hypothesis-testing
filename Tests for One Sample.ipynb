{
 "cells": [
  {
   "cell_type": "markdown",
   "metadata": {},
   "source": [
    "# Hypothesis Tests for One Sample\n",
    "\n",
    "When conducting hypothesis tests for a single population, different methods are employed depending on the nature of the data and the available information. Below, we explore three common scenarios: testing a single population mean using a t-test, testing a single population mean using a z-test, and testing a single population proportion."
   ]
  },
  {
   "cell_type": "markdown",
   "metadata": {},
   "source": [
    "## Testing a Single Population Mean using a z-test (Known Variance)\n",
    "\n",
    "**Assumptions:**\n",
    "- A simple random sample is taken from the population.\n",
    "- The population is normally distributed or the sample size is sufficiently large.\n",
    "- The value of the population standard deviation is known (which is rarely the case in practice).\n",
    "\n",
    "**Mathematical Formulation:**\n",
    "$$ z = \\frac{\\bar{x} - \\mu}{\\frac{\\sigma}{\\sqrt{n}}} $$\n",
    "\n",
    "where:\n",
    "- $ \\bar{x} $ is the sample mean,\n",
    "- $ \\mu $ is the population mean,\n",
    "- $ \\sigma $ is the population standard deviation,\n",
    "- $ n $ is the sample size.\n"
   ]
  },
  {
   "cell_type": "markdown",
   "metadata": {},
   "source": [
    "### Example:"
   ]
  },
  {
   "cell_type": "code",
   "execution_count": 80,
   "metadata": {},
   "outputs": [],
   "source": [
    "import numpy as np\n",
    "from scipy import stats"
   ]
  },
  {
   "cell_type": "code",
   "execution_count": 81,
   "metadata": {},
   "outputs": [],
   "source": [
    "# Lets genrate a sample from Normal distribution with mean: 10 and sigma:3. \n",
    "\n",
    "mu_true = 10\n",
    "sigma_true = 3\n",
    "n = 50\n",
    "\n",
    "x = stats.norm.rvs(size=n, loc=mu_true, scale=sigma_true)"
   ]
  },
  {
   "cell_type": "markdown",
   "metadata": {},
   "source": [
    "State the following Hypothesis:  \n",
    "$$H_0: \\mu = 9.5$$\n",
    "$$H_1: \\mu \\neq 9.5$$  \n",
    "\n",
    "And set significance level $\\alpha$ = 0.05"
   ]
  },
  {
   "cell_type": "code",
   "execution_count": 83,
   "metadata": {},
   "outputs": [
    {
     "name": "stdout",
     "output_type": "stream",
     "text": [
      "z-statistic:  0.6174 \n",
      "p-value:  0.5370 \n",
      "z-critical:  1.9600\n",
      "Reject H0: False\n"
     ]
    }
   ],
   "source": [
    "alpha = 0.05\n",
    "mu_0 = 9.5\n",
    "\n",
    "x_hat = np.mean(x)\n",
    "n = len(x)\n",
    "\n",
    "z_statistic = (x_hat - mu_0)/(sigma_true/np.sqrt(n))\n",
    "p_value = 2*stats.norm.cdf(-abs(z_statistic))\n",
    "z_critical = stats.norm.ppf(1 - alpha/2)\n",
    "print(f'z-statistic: {z_statistic: 3.4f} \\np-value: {p_value: 3.4f} \\nz-critical: {z_critical: 3.4f}')\n",
    "print('Reject H0:', p_value < alpha)"
   ]
  },
  {
   "cell_type": "markdown",
   "metadata": {},
   "source": [
    "As we can see, the test failed to reject the $H_0$. Is there a way to determine sample size $n$ such that the desired difference in means would be detected with significance level $\\alpha$? Let's find out:  \n",
    "\n",
    "Given, significance level $\\alpha$ and Type II error probability $\\beta$:  \n",
    "$$P\\left(\\frac{\\bar{X} -  \\mu_0}{\\frac{\\sigma}{\\sqrt{n}}} \\geq z_{\\frac{\\alpha}{2}}\\right) = \\frac{\\alpha}{2}$$\n",
    "$$P\\left(\\frac{\\bar{X} -  \\mu_1}{\\frac{\\sigma}{\\sqrt{n}}} \\leq z_{\\beta}\\right) = \\beta$$  \n",
    "\n",
    "We need: \n",
    "$$z_{\\frac{\\alpha}{2}} + z_{\\beta} = \\mu_1 - \\mu_0 = d$$  \n",
    "Where $d = \\mu_1 - \\mu_0 $ is called effect size  \n",
    "So we have:  \n",
    "$$\\frac{\\bar{X} -  \\mu_0}{\\frac{\\sigma}{\\sqrt{n}}} = z_{\\frac{\\alpha}{2}}$$\n",
    "$$\\frac{\\bar{X} -  \\mu_1}{\\frac{\\sigma}{\\sqrt{n}}} = -z_{\\beta}$$\n",
    "From here we get:  \n",
    "$$d = z_{\\frac{\\alpha}{2}} + z_{\\beta} = \\mu_0 + \\frac{\\sigma \\cdot z_{\\frac{\\alpha}{2}}}{\\sqrt{n}} -\\mu_1 + \\frac{\\sigma \\cdot z_{\\beta}}{\\sqrt{n}}$$  \n",
    "$$d = \\frac{\\sigma\\cdot \\left(z_{\\frac{\\alpha}{2}} + z_{\\beta}\\right)}{\\sqrt{n}}$$  \n",
    "And finally:\n",
    "$$n = \\frac{\\sigma^2\\cdot \\left(z_{\\frac{\\alpha}{2}} + z_{\\beta}\\right)^2}{d^2}$$  "
   ]
  },
  {
   "cell_type": "code",
   "execution_count": 84,
   "metadata": {},
   "outputs": [
    {
     "name": "stdout",
     "output_type": "stream",
     "text": [
      "Desired sample size: 379.0\n"
     ]
    }
   ],
   "source": [
    "# Lets calculate the desired sample size, setting beta = 0.1\n",
    "beta = 0.1\n",
    "d = 0.5\n",
    "\n",
    "z_alpha = stats.norm.ppf(1 - alpha/2)\n",
    "z_beta = abs(stats.norm.ppf(beta))\n",
    "n = np.ceil(sigma_true**2*(z_alpha + z_beta)**2/d**2)\n",
    "print(f'Desired sample size: {n}')"
   ]
  },
  {
   "cell_type": "code",
   "execution_count": 85,
   "metadata": {},
   "outputs": [
    {
     "name": "stdout",
     "output_type": "stream",
     "text": [
      "z-statistic:  1.9855 \n",
      "p-value:  0.0471 \n",
      "z-critical:  1.9600\n",
      "Reject H0: True\n"
     ]
    }
   ],
   "source": [
    "n = 379\n",
    "\n",
    "x = stats.norm.rvs(size=n, loc=mu_true, scale=sigma_true)\n",
    "\n",
    "x_hat = np.mean(x)\n",
    "n = len(x)\n",
    "\n",
    "z_statistic = (x_hat - mu_0)/(sigma_true/np.sqrt(n))\n",
    "p_value = 2*stats.norm.cdf(-abs(z_statistic))\n",
    "z_critical = stats.norm.ppf(1 - alpha/2)\n",
    "print(f'z-statistic: {z_statistic: 3.4f} \\np-value: {p_value: 3.4f} \\nz-critical: {z_critical: 3.4f}')\n",
    "print('Reject H0:', p_value < alpha)"
   ]
  },
  {
   "cell_type": "markdown",
   "metadata": {},
   "source": [
    "Now our test can detect desired effect size of 0.5"
   ]
  },
  {
   "cell_type": "markdown",
   "metadata": {},
   "source": [
    "\n",
    "\n",
    "## Testing a Single Population Mean using a t-test (Unknown Variance)\n",
    "\n",
    "**Assumptions:**\n",
    "- The data should be a simple random sample from a population.\n",
    "- The population should be approximately normally distributed.\n",
    "- The sample standard deviation is used to estimate the population standard deviation.\n",
    "\n",
    "**Mathematical Formulation:**\n",
    "$$ t = \\frac{\\bar{x} - \\mu}{\\frac{s}{\\sqrt{n}}} $$\n",
    "\n",
    "where:\n",
    "- $ \\bar{x} $ is the sample mean,\n",
    "- $ \\mu $ is the population mean,\n",
    "- $ s $ is the sample standard deviation,\n",
    "- $ n $ is the sample size.\n",
    "\n",
    "If the sample size is sufficiently large, this test can be robust even if the population is not normally distributed.  \n",
    "\n",
    "\n",
    "\n",
    "**Degrees of Freedom:**\n",
    "\n",
    "For a single-sample t-test, the degrees of freedom are given by \\( df = n - 1 \\). This reflects the number of independent pieces of information available in the sample.\n"
   ]
  },
  {
   "cell_type": "markdown",
   "metadata": {},
   "source": [
    "### Example:"
   ]
  },
  {
   "cell_type": "code",
   "execution_count": 103,
   "metadata": {},
   "outputs": [
    {
     "name": "stdout",
     "output_type": "stream",
     "text": [
      "t-statistic:  2.0860 \n",
      "p-value:  0.0376 \n",
      "z-critical:  1.9663\n",
      "Reject H0: True\n"
     ]
    }
   ],
   "source": [
    "x_hat = np.mean(x)\n",
    "n = len(x)\n",
    "df = n - 1\n",
    "\n",
    "s = np.sqrt(np.var(x, ddof=1))\n",
    "t_statistic = (x_hat - mu_0)/(s/np.sqrt(n))\n",
    "p_value = 2*stats.t.cdf(-abs(t_statistic), df=df)\n",
    "t_critical = stats.t.ppf(1 - alpha/2, df=df)\n",
    "print(f't-statistic: {t_statistic: 3.4f} \\np-value: {p_value: 3.4f} \\nz-critical: {t_critical: 3.4f}')\n",
    "print('Reject H0:', p_value < alpha)"
   ]
  },
  {
   "cell_type": "markdown",
   "metadata": {},
   "source": [
    "## Testing a Single Population Proportion\n",
    "\n",
    "**Assumptions:**\n",
    "- A simple random sample is taken from the population.\n",
    "- The conditions for a binomial distribution are met: there are a certain number $ n $ of independent trials, each trial has outcomes of success or failure, and each trial has the same probability of success $ p $.\n",
    "- The binomial distribution needs to resemble a normal distribution, ensuring $ np > 5 $ and $ nq > 5 $, where $ q = 1 - p $.\n",
    "\n",
    "**Mathematical Formulation:**\n",
    "$$ z = \\frac{\\hat{p} - p}{\\sqrt{\\frac{pq}{n}}} $$\n",
    "\n",
    "where:\n",
    "- $ \\hat{p} $ is the sample proportion,\n",
    "- $ p $ is the population proportion,\n",
    "- $ q = 1 - p $,\n",
    "- $ n $ is the sample size.\n",
    "\n",
    "These tests provide valuable tools for drawing inferences about a single population based on sample data, facilitating informed decision-making in various fields."
   ]
  },
  {
   "cell_type": "markdown",
   "metadata": {},
   "source": [
    "### Example:"
   ]
  },
  {
   "cell_type": "code",
   "execution_count": 106,
   "metadata": {},
   "outputs": [],
   "source": [
    "p = 0.45\n",
    "n = 100\n",
    "\n",
    "x = stats.bernoulli.rvs(size=n, p=p)"
   ]
  },
  {
   "cell_type": "markdown",
   "metadata": {},
   "source": [
    "State the following Hypothesis:  \n",
    "$$H_0: p = 0.5$$\n",
    "$$H_1: p \\neq 0.5$$  \n",
    "\n",
    "And set significance level $\\alpha$ = 0.05"
   ]
  },
  {
   "cell_type": "code",
   "execution_count": 118,
   "metadata": {},
   "outputs": [
    {
     "name": "stdout",
     "output_type": "stream",
     "text": [
      "z-statistic: -2.0000 \n",
      "p-value:  0.0455 \n",
      "z-critical:  1.9600\n",
      "Reject H0: True\n"
     ]
    }
   ],
   "source": [
    "alpha = 0.05\n",
    "p_0 = 0.5\n",
    "\n",
    "n = len(x)\n",
    "p_hat = np.mean(x)\n",
    "\n",
    "sigma = np.sqrt(p_0*(1 - p_0))\n",
    "#sigma = np.sqrt(p_hat*(1 - p_hat))\n",
    "z_statistic = (p_hat - p_0)/(sigma/np.sqrt(n))\n",
    "p_value = 2*stats.norm.cdf(-abs(z_statistic))\n",
    "z_critical = stats.norm.ppf(1 - alpha/2)\n",
    "print(f'z-statistic: {z_statistic: 3.4f} \\np-value: {p_value: 3.4f} \\nz-critical: {z_critical: 3.4f}')\n",
    "print('Reject H0:', p_value < alpha)"
   ]
  }
 ],
 "metadata": {
  "kernelspec": {
   "display_name": "ml_dl",
   "language": "python",
   "name": "python3"
  },
  "language_info": {
   "codemirror_mode": {
    "name": "ipython",
    "version": 3
   },
   "file_extension": ".py",
   "mimetype": "text/x-python",
   "name": "python",
   "nbconvert_exporter": "python",
   "pygments_lexer": "ipython3",
   "version": "3.8.16"
  }
 },
 "nbformat": 4,
 "nbformat_minor": 2
}
