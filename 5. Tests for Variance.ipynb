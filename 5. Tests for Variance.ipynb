{
 "cells": [
  {
   "cell_type": "markdown",
   "metadata": {},
   "source": [
    "## Testing the Equality of Variances with F-Test\n",
    "Let $X_1, \\ldots, X_n$ and $Y_1, \\ldots, Y_m$ be independent and identically distributed samples from two populations, each with a normal distribution. The expected values for the two populations can be different, and the hypothesis to be tested is that the variances are equal.\n",
    "\n",
    "\n",
    "**Assumptions:**\n",
    "- The data in each group or dataset should be a simple random sample from a larger population.\n",
    "- The populations from which the samples are drawn should be approximately normally distributed.\n",
    "\n",
    "**Mathematical Formulation:**\n",
    "\n",
    "Let  \n",
    "$$\\overline{X} = \\frac{1}{n} \\sum_{i=1}^{n}X_i$$\n",
    "$$\\overline{Y} = \\frac{1}{m} \\sum_{i=1}^{m}Y_i$$  \n",
    "be the sample means.\n",
    "\n",
    "And \n",
    "$$s_X^2 = \\frac{1}{n-1} \\sum_{i=1}^{n}(X_i - \\overline{X})^2$$\n",
    "$$s_Y^2 = \\frac{1}{m-1} \\sum_{i=1}^{m}(Y_i - \\overline{Y})^2$$ \n",
    "be the sample variances.\n",
    "\n",
    "Then the test statistic is given by:\n",
    "\n",
    "$$ F = \\frac{s_X^2}{s_Y^2} $$\n",
    "\n",
    "The F-test is a common method to compare variances. The test statistic (F-statistic) is calculated as the ratio of variances between groups to variances within groups. The formula for the F-statistic is given by:\n",
    "\n",
    "\n",
    "Where:\n",
    "- $ s_X^2 $ is the sample variance of the first group.\n",
    "- $ s_Y^2 $ is the sample variance of the second group.\n",
    "\n",
    "The F-statistic follows an F-distribution with n-1 and m-1 degrees of freedom. The hypothesis for the F-test is stated as follows:\n",
    "\n",
    "- **Null Hypothesis ($H_0$):** The variances are equal across all groups or datasets.\n",
    "- **Alternative Hypothesis ($H_1$):** The variances are not equal across all groups or datasets.\n",
    "\n",
    "**Decision Rule:**\n",
    "If the p-value associated with the F-statistic is less than the chosen significance level (commonly 0.05), we reject the null hypothesis, indicating evidence of unequal variances.\n",
    "\n",
    "**Note:** The F-test is sensitive to departures from normality, and in some cases, alternative tests like Levene's test or Bartlett's test may be considered.\n",
    "\n",
    "\n"
   ]
  },
  {
   "cell_type": "markdown",
   "metadata": {},
   "source": [
    "### Example:"
   ]
  },
  {
   "cell_type": "code",
   "execution_count": 1,
   "metadata": {},
   "outputs": [],
   "source": [
    "import numpy as np\n",
    "from scipy import stats"
   ]
  },
  {
   "cell_type": "code",
   "execution_count": 12,
   "metadata": {},
   "outputs": [],
   "source": [
    "mu_1 = 10\n",
    "mu_2 = 10.5\n",
    "\n",
    "sigma_1 = 2\n",
    "sigma_2 = 3\n",
    "\n",
    "n_1 = 100\n",
    "n_2 = 120\n",
    "\n",
    "x_1 = stats.norm.rvs(size=n_1, loc=mu_1, scale=sigma_1)\n",
    "x_2 = stats.norm.rvs(size=n_2, loc=mu_2, scale=sigma_2)"
   ]
  },
  {
   "cell_type": "code",
   "execution_count": 13,
   "metadata": {},
   "outputs": [
    {
     "name": "stdout",
     "output_type": "stream",
     "text": [
      "f-statistic:  1.7439 \n",
      "p-value:  0.0046 \n",
      "z-critical:  1.4658\n",
      "Reject H0: True\n"
     ]
    }
   ],
   "source": [
    "x1_hat = np.mean(x_1)\n",
    "x2_hat = np.mean(x_2)\n",
    "s_x1 = np.std(x_1, ddof=1)\n",
    "s_x2 = np.std(x_2, ddof=1)\n",
    "n = len(x_1)\n",
    "m = len(x_2)\n",
    "alpha = 0.05\n",
    "\n",
    "if s_x1 > s_x2:\n",
    "    f_statistic = s_x1/s_x2\n",
    "    df_X = n-1\n",
    "    df_Y = m-1\n",
    "else:\n",
    "    f_statistic = s_x2/s_x1\n",
    "    df_X = m-1\n",
    "    df_Y = n-1\n",
    "# Calculate p-value for two-sided F-test\n",
    "p_value = 2 * (1 - stats.f.cdf(f_statistic, df_X, df_Y))\n",
    "f_critical = stats.f.ppf(1-alpha/2, df_X, df_Y)\n",
    "\n",
    "print(f'f-statistic: {f_statistic: 3.4f} \\np-value: {p_value: 3.4f} \\nz-critical: {f_critical: 3.4f}')\n",
    "print('Reject H0:', p_value < alpha)"
   ]
  }
 ],
 "metadata": {
  "kernelspec": {
   "display_name": "ml_dl",
   "language": "python",
   "name": "python3"
  },
  "language_info": {
   "codemirror_mode": {
    "name": "ipython",
    "version": 3
   },
   "file_extension": ".py",
   "mimetype": "text/x-python",
   "name": "python",
   "nbconvert_exporter": "python",
   "pygments_lexer": "ipython3",
   "version": "3.8.16"
  }
 },
 "nbformat": 4,
 "nbformat_minor": 2
}
