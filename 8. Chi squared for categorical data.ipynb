{
 "cells": [
  {
   "cell_type": "markdown",
   "metadata": {},
   "source": [
    "## Chi-Squared Goodness-of-Fit Test\n",
    "\n",
    "The chi-squared goodness-of-fit test is a statistical test used to assess whether the observed frequency distribution of categorical data matches the expected distribution. It is a non-parametric test that is particularly useful when dealing with categorical variables or counts.\n",
    "\n",
    "### Assumptions:\n",
    "\n",
    "1. **Categorical Data:** The data should be categorical, meaning observations fall into distinct categories.\n",
    "\n",
    "2. **Independent Observations:** Each observation should be independent of others.\n",
    "\n",
    "3. **Expected Frequencies:** The expected frequencies for each category should be reasonably large (typically, each expected frequency should be greater than 5).\n",
    "\n",
    "### Mathematical Formulation:\n",
    "\n",
    "The test involves comparing the observed frequencies ($O_i$) with the expected frequencies ($E_i$). The chi-squared statistic ($\\chi^2$) is calculated using the formula:\n",
    "\n",
    "$$ \\chi^2 = \\sum \\frac{(O_i - E_i)^2}{E_i} $$\n",
    "\n",
    "where the sum is taken over all categories.\n",
    "\n",
    "### Degrees of Freedom:\n",
    "\n",
    "The degrees of freedom ($df$) for the chi-squared test depend on the number of categories ($k$) and are given by $df = k - 1$.\n",
    "\n",
    "### Decision Rule:\n",
    "\n",
    "The obtained $\\chi^2$ value is compared against the critical $\\chi^2$ value at a chosen significance level to determine whether to reject the null hypothesis.\n",
    "\n",
    "- **Null Hypothesis ($H_0$):** The observed and expected frequencies are consistent; there is no significant difference between the observed and expected distributions.\n",
    "\n",
    "- **Alternative Hypothesis ($H_1$):** There is a significant difference between the observed and expected distributions.\n"
   ]
  },
  {
   "cell_type": "markdown",
   "metadata": {},
   "source": [
    "### Example:\n",
    "\n",
    "**Problem Statement:** \n",
    "\n",
    "Suppose we have conducted a survey on the preferred modes of transportation for individuals in a city. The expected distribution based on historical data suggests that 40% prefer cars, 30% prefer public transportation, and 30% prefer bicycles.\n",
    "\n",
    "We collected data from a random sample of 200 individuals and want to assess whether the observed distribution matches the expected distribution.\n",
    "\n",
    "**Hypotheses:**  \n",
    "\n",
    "- **Null Hypothesis ($H_0$):** The observed and expected distributions are consistent; there is no significant difference.\n",
    "  \n",
    "- **Alternative Hypothesis ($H_1$):** There is a significant difference between the observed and expected distributions.\n",
    "\n",
    "**Data:**\n",
    "\n",
    "- Observed Frequencies:\n",
    "  - Cars: 90\n",
    "  - Public Transportation: 70\n",
    "  - Bicycles: 40\n",
    "\n",
    "**Assumptions:**\n",
    "\n",
    "1. Categorical Data\n",
    "2. Independent Observations\n",
    "3. Expected Frequencies > 5\n",
    "\n",
    "\n",
    "\n"
   ]
  },
  {
   "cell_type": "markdown",
   "metadata": {},
   "source": []
  },
  {
   "cell_type": "code",
   "execution_count": 16,
   "metadata": {},
   "outputs": [
    {
     "name": "stdout",
     "output_type": "stream",
     "text": [
      "chi2-statistic:  9.5833 \n",
      "p-value:  0.0083 \n",
      "chi2-critical:  5.9915\n",
      "Reject H0: True\n"
     ]
    }
   ],
   "source": [
    "import numpy as np\n",
    "from scipy.stats import chisquare, chi2\n",
    "\n",
    "# Observed frequencies\n",
    "observed = np.array([90, 70, 40])\n",
    "\n",
    "# Expected proportions based on historical data\n",
    "expected_proportions = np.array([0.4, 0.3, 0.3])\n",
    "\n",
    "# Sample size\n",
    "total_observed = np.sum(observed)\n",
    "\n",
    "# Calculate expected frequencies\n",
    "expected = expected_proportions * total_observed\n",
    "\n",
    "#Set alpha = 0.05\n",
    "alpha = 0.05\n",
    "\n",
    "# Degrees of freedom\n",
    "df = len(observed) - 1\n",
    "\n",
    "# Perform the chi-squared test\n",
    "chi2_statistic = np.sum((observed - expected)**2/expected)\n",
    "p_value = 1-chi2.cdf(chi2_statistic, df)\n",
    "chi2_critical = chi2.ppf(1-alpha, df)\n",
    "\n",
    "\n",
    "# Output results\n",
    "print(f'chi2-statistic: {chi2_statistic: 3.4f} \\np-value: {p_value: 3.4f} \\nchi2-critical: {chi2_critical: 3.4f}')\n",
    "print('Reject H0:', p_value < alpha)\n"
   ]
  },
  {
   "cell_type": "code",
   "execution_count": 15,
   "metadata": {},
   "outputs": [
    {
     "data": {
      "text/plain": [
       "Power_divergenceResult(statistic=9.583333333333334, pvalue=0.008298614824955013)"
      ]
     },
     "execution_count": 15,
     "metadata": {},
     "output_type": "execute_result"
    }
   ],
   "source": [
    "# Using scipy chi2 test:\n",
    "chisquare(observed, expected)"
   ]
  },
  {
   "cell_type": "code",
   "execution_count": null,
   "metadata": {},
   "outputs": [],
   "source": []
  }
 ],
 "metadata": {
  "kernelspec": {
   "display_name": "ml_dl",
   "language": "python",
   "name": "python3"
  },
  "language_info": {
   "codemirror_mode": {
    "name": "ipython",
    "version": 3
   },
   "file_extension": ".py",
   "mimetype": "text/x-python",
   "name": "python",
   "nbconvert_exporter": "python",
   "pygments_lexer": "ipython3",
   "version": "3.8.16"
  }
 },
 "nbformat": 4,
 "nbformat_minor": 2
}
